{
 "cells": [
  {
   "cell_type": "markdown",
   "metadata": {},
   "source": [
    "Day 1 of Advent of Code:<br>\n",
    "Example list:<br>\n",
    "<br>\n",
    "3   4 <br>\n",
    "4   3<br>\n",
    "2   5<br>\n",
    "1   3<br>\n",
    "3   9<br>\n",
    "3   3<br>\n",
    "<br>\n",
    "Question:<br>\n",
    "Find the total distance between list 1 and 2!<br>\n",
    "<br>\n",
    "Steps:<br>\n",
    "1. Pair the smallest number in list 1 with the smallest number in list 2<br>\n",
    "<br>\n",
    "2. Take the absolute distance between the numbers<br>\n",
    "<br>\n",
    "3. Add all the values<br>\n",
    "<br>\n",
    "Solution:<br>\n",
    "1. Order list 1 from lowest to highest<br>\n",
    "2. Order list 2 from lowest to highest<br>\n",
    "3. Pair list 1 and 2<br>\n",
    "4. Determine the absolute difference between the values from list 1 and 2<br>\n",
    "5. Add each value to a variable<br>\n",
    "<br>\n",
    "Solution part 2:<br>\n",
    "1. Select value 1 from list 1<br>\n",
    "2. Check if last value from list 1 is similar to previous value <br>\n",
    "3. If value is similar to previous value then reuse counter value <br>\n",
    "4. When last value is new iterate over all values in list 2 <br>\n",
    "5. When found in list 2 add 1 to counter<br>\n",
    "6. Multiply the value from list 1 with the counter value<br>\n",
    "7. Add multiplication result to similarity score<br>\n"
   ]
  },
  {
   "cell_type": "code",
   "execution_count": null,
   "metadata": {},
   "outputs": [
    {
     "name": "stdout",
     "output_type": "stream",
     "text": [
      "Lijst 1:[1, 2, 3, 3, 3, 4]\n",
      "Lijst 2:[3, 3, 3, 4, 5, 9]\n",
      "Distance between values: 2\n",
      "Distance between values: 1\n",
      "Distance between values: 0\n",
      "Distance between values: 1\n",
      "Distance between values: 2\n",
      "Distance between values: 5\n",
      "Total distance: 11\n"
     ]
    }
   ],
   "source": [
    "# Build up for part 1\n",
    "lijst_1 = sorted([3,4,2,1,3,3])\n",
    "lijst_2 = sorted([4,3,5,3,9,3])\n",
    "\n",
    "total_distance = 0\n",
    "\n",
    "print(f\"Lijst 1:{lijst_1}\")\n",
    "print(f\"Lijst 2:{lijst_2}\")\n",
    "\n",
    "for x, y in zip(lijst_1, lijst_2):\n",
    "\t# print(f\"Lijst 1:{x}, lijst 2: {y}\")\n",
    "\tprint(f\"Distance between values: {abs(x-y)}\")\n",
    "\ttotal_distance = total_distance + abs(x-y)\n",
    "\n",
    "print(f\"Total distance: {total_distance}\")"
   ]
  },
  {
   "cell_type": "code",
   "execution_count": null,
   "metadata": {},
   "outputs": [
    {
     "name": "stdout",
     "output_type": "stream",
     "text": [
      "31\n"
     ]
    }
   ],
   "source": [
    "# Build up for part 2:\n",
    "results = []\n",
    "\n",
    "for x in lijst_1:\n",
    "\tcounter = 0\n",
    "\tfor y in lijst_2:\n",
    "\t\t# print(f\"{x} and {y}\")\n",
    "\t\tif y == x:\n",
    "\t\t\tcounter += 1\n",
    "\t# print(f\"{x} times {counter} = {x*counter}\")\n",
    "\tresults.append(x*counter)\n",
    "\n",
    "print(sum(results))"
   ]
  },
  {
   "cell_type": "code",
   "execution_count": null,
   "metadata": {},
   "outputs": [],
   "source": [
    "# Set variables\n",
    "total_distance = 0\n",
    "temp_list = []\n",
    "list_1 = []\n",
    "list_2 = []"
   ]
  },
  {
   "cell_type": "code",
   "execution_count": null,
   "metadata": {},
   "outputs": [],
   "source": [
    "# Read input data from text file\n",
    "with open(\"input_day_1.txt\") as file:\n",
    "\tfor i in file.readlines():\n",
    "\t\ttemp_list.append(i.strip().split(\" \"))"
   ]
  },
  {
   "cell_type": "code",
   "execution_count": null,
   "metadata": {},
   "outputs": [],
   "source": [
    "# Create seperated lists with input data\n",
    "for x in temp_list:\n",
    "\tlist_1.append(x[0])\n",
    "\tlist_2.append(x[-1])"
   ]
  },
  {
   "cell_type": "code",
   "execution_count": null,
   "metadata": {},
   "outputs": [
    {
     "name": "stdout",
     "output_type": "stream",
     "text": [
      "Total distance: 3574690\n"
     ]
    }
   ],
   "source": [
    "# Calculate total distance between list values\n",
    "list_1 = sorted(list_1)\n",
    "list_2 = sorted(list_2)\n",
    "\n",
    "for x, y in zip(list_1, list_2):\n",
    "\ttotal_distance = total_distance + abs(int(x)-int(y))\n",
    "\n",
    "print(f\"Total distance: {total_distance}\")"
   ]
  },
  {
   "cell_type": "markdown",
   "metadata": {},
   "source": [
    "Results for part 1 runs: <br>\n",
    "Run 1: 3574701 x <br>\n",
    "Run 2: 3574690 v <br>"
   ]
  },
  {
   "cell_type": "code",
   "execution_count": null,
   "metadata": {},
   "outputs": [
    {
     "name": "stdout",
     "output_type": "stream",
     "text": [
      "Total similarity score 22565391\n"
     ]
    }
   ],
   "source": [
    "# Calculate total similarity score between list values\n",
    "similarity_score = []\n",
    "\n",
    "for x in list_1:\n",
    "\tcounter = 0\n",
    "\tfor y in list_2:\n",
    "\t\tif int(y) == int(x):\n",
    "\t\t\tcounter += 1\n",
    "\tsimilarity_score.append(int(x)*counter)\n",
    "\n",
    "print(f\"Total similarity score {sum(similarity_score)}\")"
   ]
  },
  {
   "cell_type": "markdown",
   "metadata": {},
   "source": [
    "Results for part 2 runs: <br>\n",
    "Run 1: 22565391 v <br>"
   ]
  }
 ],
 "metadata": {
  "kernelspec": {
   "display_name": "Python 3",
   "language": "python",
   "name": "python3"
  },
  "language_info": {
   "codemirror_mode": {
    "name": "ipython",
    "version": 3
   },
   "file_extension": ".py",
   "mimetype": "text/x-python",
   "name": "python",
   "nbconvert_exporter": "python",
   "pygments_lexer": "ipython3",
   "version": "3.12.3"
  }
 },
 "nbformat": 4,
 "nbformat_minor": 2
}
