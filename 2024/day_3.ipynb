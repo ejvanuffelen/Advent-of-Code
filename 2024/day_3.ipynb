{
 "cells": [
  {
   "cell_type": "code",
   "execution_count": 9,
   "metadata": {},
   "outputs": [],
   "source": [
    "import re\n",
    "import ast\n",
    "\n",
    "from aoc_load import aoc_input\n",
    "\n",
    "input_string = aoc_input(3)\n",
    "input_string = input_string.loader()\n",
    "\n",
    "test_string = \"xmul(2,4)%&mul[3,7]!@^do_not_mul(5,5)+mul(32,64]then(mul(11,8)mul(8,5))\"\n",
    "test_string_2 = \"xmul(2,4)&mul[3,7]!^don't()_mul(5,5)+mul(32,64](mul(11,8)undo()?mul(8,5))\"\n"
   ]
  },
  {
   "cell_type": "code",
   "execution_count": 4,
   "metadata": {},
   "outputs": [],
   "source": [
    "# Part 1\n",
    "# Finding mul() with digits {1,3}\n",
    "found_muls = re.findall(r\"mul\\([0-9]{1,3},[0-9]{1,3}\\)\", input_string)\n",
    "\n",
    "# Remove \"mul\" from input\n",
    "found_muls = [item.replace('mul','') for item in found_muls]\n",
    "\n",
    "# Transform input to tuples\n",
    "found_muls = [ast.literal_eval(item) for item in found_muls]"
   ]
  },
  {
   "cell_type": "code",
   "execution_count": 11,
   "metadata": {},
   "outputs": [],
   "source": [
    "# Part 2\n",
    "# Finding mul() with digits {1,3}, do(), don't()\n",
    "found_domuls = re.findall(r\"mul\\([0-9]{1,3},[0-9]{1,3}\\)|do\\(\\)|don\\'t\\(\\)\", input_string)\n",
    "\n",
    "# Remove \"mul\" from input\n",
    "found_domuls = [item.replace('mul','') for item in found_domuls]"
   ]
  },
  {
   "cell_type": "code",
   "execution_count": 12,
   "metadata": {},
   "outputs": [],
   "source": [
    "# Append correct memory values into sublist\n",
    "found_domuls_calc = []\n",
    "\n",
    "do_dont_switch = False\n",
    "for item in found_domuls:\n",
    "\tif item == \"don't()\":\n",
    "\t\tdo_dont_switch = True\n",
    "\telif item == \"do()\":\n",
    "\t\tdo_dont_switch = False\n",
    "\t\tcontinue\n",
    "\telif not do_dont_switch:\n",
    "\t\tfound_domuls_calc.append(item)\n",
    "\n",
    "\n",
    "# Transform input to tuples\n",
    "found_domuls_calc = [ast.literal_eval(item) for item in found_domuls_calc]"
   ]
  },
  {
   "cell_type": "code",
   "execution_count": 13,
   "metadata": {},
   "outputs": [
    {
     "name": "stdout",
     "output_type": "stream",
     "text": [
      "74361272\n"
     ]
    }
   ],
   "source": [
    "# Calculate total value from input values\n",
    "total = 0\n",
    "for x in found_domuls_calc:\n",
    "\ttotal = total + (int(x[0]) * int(x[1]))\n",
    "\n",
    "print(total)"
   ]
  },
  {
   "cell_type": "markdown",
   "metadata": {},
   "source": [
    "<h2>Results</h2>\n",
    "<p>\n",
    "Part 1<br>\n",
    "Run 1: 175.615.763<br>\n",
    "</p>\n",
    "<p>\n",
    "Part 2<br>\n",
    "Run 1: 74.361.272<br>\n",
    "</p>"
   ]
  },
  {
   "cell_type": "code",
   "execution_count": 10,
   "metadata": {},
   "outputs": [
    {
     "name": "stdout",
     "output_type": "stream",
     "text": [
      "175615763\n"
     ]
    }
   ],
   "source": []
  }
 ],
 "metadata": {
  "kernelspec": {
   "display_name": "Python 3",
   "language": "python",
   "name": "python3"
  },
  "language_info": {
   "codemirror_mode": {
    "name": "ipython",
    "version": 3
   },
   "file_extension": ".py",
   "mimetype": "text/x-python",
   "name": "python",
   "nbconvert_exporter": "python",
   "pygments_lexer": "ipython3",
   "version": "3.12.3"
  }
 },
 "nbformat": 4,
 "nbformat_minor": 2
}
