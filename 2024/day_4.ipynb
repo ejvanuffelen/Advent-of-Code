{
 "cells": [
  {
   "cell_type": "markdown",
   "metadata": {},
   "source": [
    "Find the word xmas within a matrix, the word can be found horizontal, vertical and diagonal"
   ]
  },
  {
   "cell_type": "code",
   "execution_count": 1,
   "metadata": {},
   "outputs": [],
   "source": [
    "from aoc_load import aoc_input\n",
    "\n",
    "input_string = aoc_input(4)\n",
    "input_string = input_string.loader()\n",
    "\n",
    "input_matrix = []\n",
    "for item in input_string.strip('').split(\"\\n\"):\n",
    "\tinput_matrix.append(item)\n",
    "\n",
    "for item in input_matrix:\n",
    "\tif item == '':\n",
    "\t\tinput_matrix.remove(item)"
   ]
  },
  {
   "cell_type": "code",
   "execution_count": 2,
   "metadata": {},
   "outputs": [],
   "source": [
    "def compute_lps_array(pattern):\n",
    "\tlength =0\n",
    "\ti = 1 \n",
    "\tm = len(pattern)\n",
    "\tlps = [0] * m\n",
    "\n",
    "\t# lps[0] is always 0\n",
    "\t# lps[0] = 0\n",
    "\n",
    "\twhile i < m:\n",
    "\t\tif pattern[i] == pattern[length]:\n",
    "\t\t\tlength += 1\n",
    "\t\t\tlps[i] = length\n",
    "\t\t\ti += 1\n",
    "\t\telse:\n",
    "\t\t\tif length != 0:\n",
    "\t\t\t\tlength = lps[length-1]\n",
    "\t\t\telse:\n",
    "\t\t\t\tlps[i] = 0\n",
    "\t\t\t\ti += 1\n",
    "\t\n",
    "\treturn lps"
   ]
  },
  {
   "cell_type": "code",
   "execution_count": 14,
   "metadata": {},
   "outputs": [],
   "source": [
    "def kmp_search(row, pattern):\n",
    "\tm, n = len(pattern), len(row)\n",
    "\n",
    "\t# List that contains lps (longest prefix suffix) for pattern\n",
    "\t# lps = [0]*m\n",
    "\n",
    "\t# Preprocess the pattern (lps[] array calculation)\n",
    "\tlps = compute_lps_array(pattern)\n",
    "\ti = j = 0\n",
    "\tcount = []\n",
    "\n",
    "\twhile(n-i) >= (m-j):\n",
    "\t\tif pattern[j] == row[i]:\n",
    "\t\t\tj += 1\n",
    "\t\t\ti += 1\n",
    "\t\tif j == m:\n",
    "\t\t\tcount.append(i-j)\n",
    "\t\t\tj = lps[j-1]\n",
    "\t\telif i < n and pattern[j] != row[i]:\n",
    "\t\t\tif j != 0:\n",
    "\t\t\t\tj = lps[j-1]\n",
    "\t\t\telse:\n",
    "\t\t\t\ti = i+1\n",
    "\n",
    "\treturn count"
   ]
  },
  {
   "cell_type": "code",
   "execution_count": 15,
   "metadata": {},
   "outputs": [],
   "source": [
    "def extract_direction(row, direction):\n",
    "\trows, cols = len(row), len(row[0])\n",
    "\textracted = []\n",
    "\n",
    "\tif direction == 'horizontal':\n",
    "\t\tfor r in range(rows):\n",
    "\t\t\textracted.append((row[r], (r, 0)))\n",
    "\t\n",
    "\telif direction == 'vertical':\n",
    "\t\tfor c in range(rows):\n",
    "\t\t\tcolumn = [row[r][c] for r in range(rows)]\n",
    "\t\t\textracted.append((column, (0, c)))\n",
    "\t\n",
    "\telif direction == 'diag-forward':\n",
    "\t\tfor d in range(rows + cols - 1):\n",
    "\t\t\tdiag = []\n",
    "\t\t\tstart_row = max(0, d - cols + 1)\n",
    "\t\t\tstart_col = max(0, cols - d - 1)\n",
    "\t\t\twhile start_row < rows and start_col < cols:\n",
    "\t\t\t\tdiag.append(row[start_row][start_col])\n",
    "\t\t\t\tstart_row += 1\n",
    "\t\t\t\tstart_col -= 1\n",
    "\t\t\textracted.append((diag, (max(0, d - cols + 1), min(cols - 1, d))))\n",
    "\n",
    "\telif direction == 'diag-backward':\n",
    "\t\tfor d in range(rows + cols - 1):\n",
    "\t\t\tdiag = []\n",
    "\t\t\tstart_row = max(0, d - cols + 1)\n",
    "\t\t\tstart_col = max(0, cols - d - 1)\n",
    "\t\t\twhile start_row < rows and start_col < cols:\n",
    "\t\t\t\tdiag.append(row[start_row][start_col])\n",
    "\t\t\t\tstart_row += 1\n",
    "\t\t\t\tstart_col -= 1\n",
    "\t\t\textracted.append((diag, (max(0, d - cols + 1), min(cols - 1, d))))\n",
    "\t\n",
    "\treturn extracted"
   ]
  },
  {
   "cell_type": "code",
   "execution_count": 28,
   "metadata": {},
   "outputs": [],
   "source": [
    "def main(matrix, pattern):\n",
    "\t# n = len(input)\n",
    "\t# m = len(input[0])\n",
    "\n",
    "\t# ans = 0\n",
    "\n",
    "\tresult = []\n",
    "\n",
    "\tfor row, (seq, start_coord) in enumerate(extract_direction(matrix, \"horizontal\")):\n",
    "\t\tmatches = kmp_search(seq, pattern)\n",
    "\t\tfor match in matches:\n",
    "\t\t\tresult.append((row, + match, \"horizontal\"))\n",
    "\t\t\n",
    "\t\treversed_seq = seq[::-1]\n",
    "\t\tmatches =  kmp_search(reversed_seq, pattern)\n",
    "\t\tfor match in matches:\n",
    "\t\t\tresult.append((row, len(seq) - match - len(pattern), \"horizontal-reverse\"))\n",
    "\n",
    "    # Vertical search\n",
    "\tfor col, (seq, start_coord) in enumerate(extract_direction(matrix, \"vertical\")):\n",
    "\t\tmatches = kmp_search(seq, pattern)\n",
    "\t\tfor match in matches:\n",
    "\t\t\tresult.append((match, col, \"vertical\"))\n",
    "\t\treversed_seq = seq[::-1]\n",
    "\t\tmatches =  kmp_search(reversed_seq, pattern)\n",
    "\t\tfor match in matches:\n",
    "\t\t\tresult.append((len(seq) - match - len(pattern), col, \"vertical-reverse\"))\n",
    "\n",
    "    # Diagonal-forward search\n",
    "\tfor diag, start_coord in extract_direction(matrix, \"diag-forward\"):\n",
    "\t\tmatches = kmp_search(diag, pattern)\n",
    "\t\tfor match in matches:\n",
    "\t\t\tresult.append((start_coord[0] + match, start_coord[1] + match, \"diag-forward\"))\n",
    "\n",
    "    # Diagonal-backward search\n",
    "\tfor diag, start_coord in extract_direction(matrix, \"diag-backward\"):\n",
    "\t\tmatches = kmp_search(diag, pattern)\n",
    "\t\tfor match in matches:\n",
    "\t\t\tresult.append((start_coord[0] + match, start_coord[1] - match, \"diag-backward\"))\n",
    "\n",
    "\t\n",
    "\treturn result"
   ]
  },
  {
   "cell_type": "code",
   "execution_count": 29,
   "metadata": {},
   "outputs": [],
   "source": [
    "if __name__ == \"__main__\":\n",
    "\tpattern = 'XMAS'\n",
    "\tmatrix = input_matrix\n",
    "\tfinal = main(matrix, pattern)"
   ]
  },
  {
   "cell_type": "code",
   "execution_count": 30,
   "metadata": {},
   "outputs": [
    {
     "data": {
      "text/plain": [
       "2050"
      ]
     },
     "execution_count": 30,
     "metadata": {},
     "output_type": "execute_result"
    }
   ],
   "source": [
    "len(final)"
   ]
  },
  {
   "cell_type": "markdown",
   "metadata": {},
   "source": [
    "<h2>Part 1</h2>\n",
    "<p>Run 1: 1582<br>\n",
    "Run 2: 2050</p>"
   ]
  }
 ],
 "metadata": {
  "kernelspec": {
   "display_name": "Python 3",
   "language": "python",
   "name": "python3"
  },
  "language_info": {
   "codemirror_mode": {
    "name": "ipython",
    "version": 3
   },
   "file_extension": ".py",
   "mimetype": "text/x-python",
   "name": "python",
   "nbconvert_exporter": "python",
   "pygments_lexer": "ipython3",
   "version": "3.12.3"
  }
 },
 "nbformat": 4,
 "nbformat_minor": 2
}
